{
 "cells": [
  {
   "cell_type": "code",
   "execution_count": 8,
   "metadata": {},
   "outputs": [],
   "source": [
    "import matplotlib.pyplot as plt\n",
    "import pandas as pd"
   ]
  },
  {
   "cell_type": "code",
   "execution_count": null,
   "metadata": {},
   "outputs": [],
   "source": [
    "results2 = pd.read_csv(\"./results/0.01.csv\")\n",
    "results3 = pd.read_csv(\"./results/0.001.csv\")\n",
    "results4 = pd.read_csv(\"./results/0.0001.csv\")\n",
    "results5 = pd.read_csv(\"./results/1e-05.csv\")\n",
    "\n",
    "fig, ((ax1, ax2), (ax3, ax4)) = plt.subplots(2, 2, figsize=(10, 10))\n",
    "\n",
    "ax1.plot(results2['epoch'], results2['train_loss'], color=\"red\", label=\"Training, LR = 0.01\")\n",
    "ax1.plot(results2['epoch'], results2['val_loss'], color=\"red\", linestyle='--')\n",
    "ax1.plot(results3['epoch'], results3['train_loss'], color=\"blue\", label=\"Training, LR = 0.001\")\n",
    "ax1.plot(results3['epoch'], results3['val_loss'], color=\"blue\", linestyle='--')\n",
    "ax1.plot(results4['epoch'], results4['train_loss'], color=\"green\", label=\"Training, LR = 0.0001\")\n",
    "ax1.plot(results4['epoch'], results4['val_loss'], color=\"green\", linestyle='--')\n",
    "ax1.set_xlabel(\"Epoch\")\n",
    "ax1.set_ylabel(\"Loss\")\n",
    "\n",
    "ax1.legend()\n",
    "\n",
    "ax2.plot(results2['epoch'], results2['train_acc'], color=\"red\")\n",
    "ax2.plot(results2['epoch'], results2['val_acc'], color=\"red\", linestyle='--', label=\"Validation, LR = 0.01\")\n",
    "ax2.plot(results3['epoch'], results3['train_acc'], color=\"blue\")\n",
    "ax2.plot(results3['epoch'], results3['val_acc'], color=\"blue\", linestyle='--', label=\"Validation, LR = 0.001\")\n",
    "ax2.plot(results4['epoch'], results4['train_acc'], color=\"green\")\n",
    "ax2.plot(results4['epoch'], results4['val_acc'], color=\"green\", linestyle='--', label=\"Validation, LR = 0.0001\")\n",
    "ax2.set_xlabel(\"Epoch\")\n",
    "ax2.set_ylabel(\"Accuracy\")\n",
    "\n",
    "ax2.legend()\n",
    "\n",
    "\n",
    "ax3.plot(results5['epoch'], results5['train_loss'], label=\"Training, LR = 1e-5\")\n",
    "ax3.plot(results5['epoch'], results5['val_loss'], label=\"Validation, LR = 1e-5\")\n",
    "ax3.set_xlabel(\"Epoch\")\n",
    "ax3.set_ylabel(\"Loss\")\n",
    "\n",
    "ax3.legend()\n",
    "\n",
    "ax4.plot(results5['epoch'], results5['train_acc'])\n",
    "ax4.plot(results5['epoch'], results5['val_acc'])\n",
    "ax4.set_xlabel(\"Epoch\")\n",
    "ax4.set_ylabel(\"Accuracy\")"
   ]
  },
  {
   "cell_type": "code",
   "execution_count": null,
   "metadata": {},
   "outputs": [],
   "source": [
    "results2"
   ]
  }
 ],
 "metadata": {
  "kernelspec": {
   "display_name": "train",
   "language": "python",
   "name": "python3"
  },
  "language_info": {
   "codemirror_mode": {
    "name": "ipython",
    "version": 3
   },
   "file_extension": ".py",
   "mimetype": "text/x-python",
   "name": "python",
   "nbconvert_exporter": "python",
   "pygments_lexer": "ipython3",
   "version": "3.9.21"
  }
 },
 "nbformat": 4,
 "nbformat_minor": 2
}
