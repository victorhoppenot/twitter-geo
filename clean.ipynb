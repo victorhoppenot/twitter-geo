{
 "cells": [
  {
   "cell_type": "code",
   "execution_count": 1,
   "metadata": {},
   "outputs": [],
   "source": [
    "import pandas as pd\n",
    "import pickle\n",
    "\n",
    "import re\n",
    "from tqdm.notebook import tqdm"
   ]
  },
  {
   "cell_type": "code",
   "execution_count": 9,
   "metadata": {},
   "outputs": [],
   "source": [
    "from openai import OpenAI\n",
    "client = OpenAI()\n",
    "\n",
    "def embed(batch):\n",
    "    response = client.embeddings.create(\n",
    "        input=batch,\n",
    "        model=\"text-embedding-3-small\",\n",
    "        dimensions=1024\n",
    "    )\n",
    "    return [data.embedding for data in response.data]\n"
   ]
  },
  {
   "cell_type": "code",
   "execution_count": null,
   "metadata": {},
   "outputs": [],
   "source": [
    "data = pd.read_csv(\"./geodata.csv\")\n",
    "data = data[data[\"lang\"] == \"en\"]\n",
    "data"
   ]
  },
  {
   "cell_type": "code",
   "execution_count": null,
   "metadata": {},
   "outputs": [],
   "source": [
    "def clean_text(df, field):\n",
    "    df[field] = df[field].str.lower()\n",
    "    df[field] = df[field].apply(lambda elem: re.sub(r\"(@[A-Za-z0-9]+)|([^0-9A-Za-z \\t$.!?,\\\"\\':#%&])|(\\w+:\\/\\/\\S+)|^rt|http.+?\", \"\", str(elem))) \n",
    "    return df\n",
    "\n",
    "data = clean_text(data, 'text')\n",
    "data"
   ]
  },
  {
   "cell_type": "code",
   "execution_count": null,
   "metadata": {},
   "outputs": [],
   "source": [
    "data['time'] = pd.to_datetime(data[['year','month','day','hour']])\n",
    "data = data.drop(columns=[\"year\", \"month\", \"day\", \"hour\", \"lang\"])\n",
    "data"
   ]
  },
  {
   "cell_type": "code",
   "execution_count": null,
   "metadata": {},
   "outputs": [],
   "source": [
    "def batch(it, n=1):\n",
    "    l = len(it)\n",
    "    for ndx in range(0, l, n):\n",
    "        yield it[ndx:min(ndx + n, l)]\n",
    "\n",
    "def addEmbeddings(df):\n",
    "    out = []\n",
    "    for batches in tqdm(list(batch(df[\"text\"],1000))):\n",
    "        [out.append(x) for x in embed(batches)]\n",
    "    \n",
    "    df[\"embed\"] = out\n",
    "    \n",
    "\n",
    "addEmbeddings(data)\n",
    "data\n",
    "    "
   ]
  },
  {
   "cell_type": "code",
   "execution_count": 11,
   "metadata": {},
   "outputs": [],
   "source": [
    "with open(\"geodata.pickle\", \"wb\") as f:\n",
    "    pickle.dump(data, f)"
   ]
  }
 ],
 "metadata": {
  "kernelspec": {
   "display_name": "train",
   "language": "python",
   "name": "python3"
  },
  "language_info": {
   "codemirror_mode": {
    "name": "ipython",
    "version": 3
   },
   "file_extension": ".py",
   "mimetype": "text/x-python",
   "name": "python",
   "nbconvert_exporter": "python",
   "pygments_lexer": "ipython3",
   "version": "3.9.21"
  }
 },
 "nbformat": 4,
 "nbformat_minor": 2
}
